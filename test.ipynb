{
 "cells": [
  {
   "cell_type": "code",
   "execution_count": 1,
   "metadata": {},
   "outputs": [
    {
     "data": {
      "text/html": [
       "<div>\n",
       "<style scoped>\n",
       "    .dataframe tbody tr th:only-of-type {\n",
       "        vertical-align: middle;\n",
       "    }\n",
       "\n",
       "    .dataframe tbody tr th {\n",
       "        vertical-align: top;\n",
       "    }\n",
       "\n",
       "    .dataframe thead th {\n",
       "        text-align: right;\n",
       "    }\n",
       "</style>\n",
       "<table border=\"1\" class=\"dataframe\">\n",
       "  <thead>\n",
       "    <tr style=\"text-align: right;\">\n",
       "      <th></th>\n",
       "      <th>task_id</th>\n",
       "      <th>type</th>\n",
       "      <th>product</th>\n",
       "      <th>from loc</th>\n",
       "      <th>to loc</th>\n",
       "      <th>time</th>\n",
       "      <th>order</th>\n",
       "      <th>status</th>\n",
       "    </tr>\n",
       "  </thead>\n",
       "  <tbody>\n",
       "    <tr>\n",
       "      <th>0</th>\n",
       "      <td>1</td>\n",
       "      <td>pick</td>\n",
       "      <td>p1</td>\n",
       "      <td>l1</td>\n",
       "      <td>l30</td>\n",
       "      <td>30</td>\n",
       "      <td>o1</td>\n",
       "      <td>available</td>\n",
       "    </tr>\n",
       "    <tr>\n",
       "      <th>1</th>\n",
       "      <td>2</td>\n",
       "      <td>put</td>\n",
       "      <td>p2</td>\n",
       "      <td>l31</td>\n",
       "      <td>l11</td>\n",
       "      <td>20</td>\n",
       "      <td>NaN</td>\n",
       "      <td>available</td>\n",
       "    </tr>\n",
       "    <tr>\n",
       "      <th>2</th>\n",
       "      <td>3</td>\n",
       "      <td>pick</td>\n",
       "      <td>p3</td>\n",
       "      <td>l3</td>\n",
       "      <td>l32</td>\n",
       "      <td>10</td>\n",
       "      <td>o2</td>\n",
       "      <td>available</td>\n",
       "    </tr>\n",
       "    <tr>\n",
       "      <th>3</th>\n",
       "      <td>4</td>\n",
       "      <td>pick</td>\n",
       "      <td>p4</td>\n",
       "      <td>l4</td>\n",
       "      <td>l30</td>\n",
       "      <td>5</td>\n",
       "      <td>o1</td>\n",
       "      <td>available</td>\n",
       "    </tr>\n",
       "    <tr>\n",
       "      <th>4</th>\n",
       "      <td>5</td>\n",
       "      <td>repl</td>\n",
       "      <td>p4</td>\n",
       "      <td>l5</td>\n",
       "      <td>l4</td>\n",
       "      <td>8</td>\n",
       "      <td>o1</td>\n",
       "      <td>available</td>\n",
       "    </tr>\n",
       "  </tbody>\n",
       "</table>\n",
       "</div>"
      ],
      "text/plain": [
       "   task_id  type product from loc to loc  time order     status\n",
       "0        1  pick      p1       l1    l30    30    o1  available\n",
       "1        2   put      p2      l31    l11    20   NaN  available\n",
       "2        3  pick      p3       l3    l32    10    o2  available\n",
       "3        4  pick      p4       l4    l30     5    o1  available\n",
       "4        5  repl      p4       l5     l4     8    o1  available"
      ]
     },
     "execution_count": 1,
     "metadata": {},
     "output_type": "execute_result"
    }
   ],
   "source": [
    "import numpy as np\n",
    "import pandas as pd\n",
    "\n",
    "tasks = pd.read_csv('tasks.csv')\n",
    "tasks.head()"
   ]
  },
  {
   "cell_type": "code",
   "execution_count": 2,
   "metadata": {},
   "outputs": [
    {
     "name": "stdout",
     "output_type": "stream",
     "text": [
      "[[1, 0, '1', '1', '30', 30, '1', 0], [2, 1, '2', '31', '11', 20, '0', 0], [3, 0, '3', '3', '32', 10, '2', 0], [4, 0, '4', '4', '30', 5, '1', 0], [5, 3, '4', '5', '4', 8, '1', 0], [6, 0, '5', '6', '30', 10, '1', 0], [7, 3, '6', '7', '11', 11, '0', 0], [8, 0, '7', '8', '32', 14, '2', 0], [9, 2, '8', '30', '40', 9, '1', 0], [10, 2, '9', '32', '41', 10, '2', 0]]\n"
     ]
    },
    {
     "data": {
      "text/html": [
       "<div>\n",
       "<style scoped>\n",
       "    .dataframe tbody tr th:only-of-type {\n",
       "        vertical-align: middle;\n",
       "    }\n",
       "\n",
       "    .dataframe tbody tr th {\n",
       "        vertical-align: top;\n",
       "    }\n",
       "\n",
       "    .dataframe thead th {\n",
       "        text-align: right;\n",
       "    }\n",
       "</style>\n",
       "<table border=\"1\" class=\"dataframe\">\n",
       "  <thead>\n",
       "    <tr style=\"text-align: right;\">\n",
       "      <th></th>\n",
       "      <th>task_id</th>\n",
       "      <th>type</th>\n",
       "      <th>product</th>\n",
       "      <th>from loc</th>\n",
       "      <th>to loc</th>\n",
       "      <th>time</th>\n",
       "      <th>order</th>\n",
       "      <th>status</th>\n",
       "    </tr>\n",
       "  </thead>\n",
       "  <tbody>\n",
       "    <tr>\n",
       "      <th>0</th>\n",
       "      <td>1</td>\n",
       "      <td>0</td>\n",
       "      <td>1</td>\n",
       "      <td>1</td>\n",
       "      <td>30</td>\n",
       "      <td>30</td>\n",
       "      <td>1</td>\n",
       "      <td>0</td>\n",
       "    </tr>\n",
       "    <tr>\n",
       "      <th>1</th>\n",
       "      <td>2</td>\n",
       "      <td>1</td>\n",
       "      <td>2</td>\n",
       "      <td>31</td>\n",
       "      <td>11</td>\n",
       "      <td>20</td>\n",
       "      <td>0</td>\n",
       "      <td>0</td>\n",
       "    </tr>\n",
       "    <tr>\n",
       "      <th>2</th>\n",
       "      <td>3</td>\n",
       "      <td>0</td>\n",
       "      <td>3</td>\n",
       "      <td>3</td>\n",
       "      <td>32</td>\n",
       "      <td>10</td>\n",
       "      <td>2</td>\n",
       "      <td>0</td>\n",
       "    </tr>\n",
       "    <tr>\n",
       "      <th>3</th>\n",
       "      <td>4</td>\n",
       "      <td>0</td>\n",
       "      <td>4</td>\n",
       "      <td>4</td>\n",
       "      <td>30</td>\n",
       "      <td>5</td>\n",
       "      <td>1</td>\n",
       "      <td>0</td>\n",
       "    </tr>\n",
       "    <tr>\n",
       "      <th>4</th>\n",
       "      <td>5</td>\n",
       "      <td>3</td>\n",
       "      <td>4</td>\n",
       "      <td>5</td>\n",
       "      <td>4</td>\n",
       "      <td>8</td>\n",
       "      <td>1</td>\n",
       "      <td>0</td>\n",
       "    </tr>\n",
       "  </tbody>\n",
       "</table>\n",
       "</div>"
      ],
      "text/plain": [
       "   task_id  type product from loc to loc  time order  status\n",
       "0        1     0       1        1     30    30     1       0\n",
       "1        2     1       2       31     11    20     0       0\n",
       "2        3     0       3        3     32    10     2       0\n",
       "3        4     0       4        4     30     5     1       0\n",
       "4        5     3       4        5      4     8     1       0"
      ]
     },
     "execution_count": 2,
     "metadata": {},
     "output_type": "execute_result"
    }
   ],
   "source": [
    "# encode the df\n",
    "\n",
    "# encode \"type\"\n",
    "type_encoding = {\n",
    "    \"pick\": 0,\n",
    "    \"put\": 1,\n",
    "    \"load\": 2,\n",
    "    \"repl\": 3\n",
    "}\n",
    "tasks[\"type\"] = tasks[\"type\"].map(type_encoding)\n",
    "\n",
    "tasks[\"product\"] = tasks[\"product\"].apply(lambda prod:  prod[1:]) # encode product\n",
    "tasks[\"from loc\"] = tasks[\"from loc\"].apply(lambda loc:  loc[1:]) # encode from loc\n",
    "tasks[\"to loc\"] = tasks[\"to loc\"].apply(lambda loc:  loc[1:]) # encode to loc\n",
    "\n",
    "tasks.fillna({'order':'o0'}, inplace=True)  # encode to order\n",
    "tasks[\"order\"] = tasks[\"order\"].apply(lambda order:  order[1:])\n",
    "\n",
    "\n",
    "# encode status\n",
    "status_encoding = {\n",
    "    \"available\": 0,\n",
    "    \"active\": 1,\n",
    "    \"done\": 2,\n",
    "}\n",
    "tasks[\"status\"] = tasks[\"status\"].map(status_encoding)\n",
    "\n",
    "task_list = tasks.to_numpy().tolist()\n",
    "print(task_list)\n",
    "\n",
    "tasks.head()\n",
    "\n"
   ]
  },
  {
   "cell_type": "code",
   "execution_count": 3,
   "metadata": {},
   "outputs": [
    {
     "name": "stdout",
     "output_type": "stream",
     "text": [
      "[[1, 0, 0], [2, 0, 0], [3, 0, 0], [4, 0, 0], [5, 1, 0], [6, 1, 0]]\n"
     ]
    },
    {
     "data": {
      "text/html": [
       "<div>\n",
       "<style scoped>\n",
       "    .dataframe tbody tr th:only-of-type {\n",
       "        vertical-align: middle;\n",
       "    }\n",
       "\n",
       "    .dataframe tbody tr th {\n",
       "        vertical-align: top;\n",
       "    }\n",
       "\n",
       "    .dataframe thead th {\n",
       "        text-align: right;\n",
       "    }\n",
       "</style>\n",
       "<table border=\"1\" class=\"dataframe\">\n",
       "  <thead>\n",
       "    <tr style=\"text-align: right;\">\n",
       "      <th></th>\n",
       "      <th>device_id</th>\n",
       "      <th>type</th>\n",
       "      <th>status</th>\n",
       "    </tr>\n",
       "  </thead>\n",
       "  <tbody>\n",
       "    <tr>\n",
       "      <th>0</th>\n",
       "      <td>1</td>\n",
       "      <td>0</td>\n",
       "      <td>0</td>\n",
       "    </tr>\n",
       "    <tr>\n",
       "      <th>1</th>\n",
       "      <td>2</td>\n",
       "      <td>0</td>\n",
       "      <td>0</td>\n",
       "    </tr>\n",
       "    <tr>\n",
       "      <th>2</th>\n",
       "      <td>3</td>\n",
       "      <td>0</td>\n",
       "      <td>0</td>\n",
       "    </tr>\n",
       "    <tr>\n",
       "      <th>3</th>\n",
       "      <td>4</td>\n",
       "      <td>0</td>\n",
       "      <td>0</td>\n",
       "    </tr>\n",
       "    <tr>\n",
       "      <th>4</th>\n",
       "      <td>5</td>\n",
       "      <td>1</td>\n",
       "      <td>0</td>\n",
       "    </tr>\n",
       "    <tr>\n",
       "      <th>5</th>\n",
       "      <td>6</td>\n",
       "      <td>1</td>\n",
       "      <td>0</td>\n",
       "    </tr>\n",
       "  </tbody>\n",
       "</table>\n",
       "</div>"
      ],
      "text/plain": [
       "   device_id  type  status\n",
       "0          1     0       0\n",
       "1          2     0       0\n",
       "2          3     0       0\n",
       "3          4     0       0\n",
       "4          5     1       0\n",
       "5          6     1       0"
      ]
     },
     "execution_count": 3,
     "metadata": {},
     "output_type": "execute_result"
    }
   ],
   "source": [
    "devices = pd.read_csv('devices.csv')\n",
    "# devices.head()\n",
    "\n",
    "# type encodings\n",
    "type_encodings = {\n",
    "    \"forklift\": 0,\n",
    "    \"pallet_jack\": 1\n",
    "}\n",
    "devices[\"type\"] = devices[\"type\"].map(type_encodings)\n",
    "\n",
    "# encode status\n",
    "status_encoding = {\n",
    "    \"available\": 0,\n",
    "    \"active\": 1,\n",
    "}\n",
    "devices[\"status\"] = devices[\"status\"].map(status_encoding)\n",
    "\n",
    "device_list = devices.to_numpy().tolist()\n",
    "print(device_list)\n",
    "\n",
    "devices.head(10)"
   ]
  },
  {
   "cell_type": "code",
   "execution_count": 4,
   "metadata": {},
   "outputs": [],
   "source": [
    "from WarehouseEnv_V0 import WarehouseEnv\n",
    "\n",
    "from stable_baselines3.common.env_checker import check_env"
   ]
  },
  {
   "cell_type": "code",
   "execution_count": 5,
   "metadata": {},
   "outputs": [
    {
     "name": "stdout",
     "output_type": "stream",
     "text": [
      "[encoding]: encoded task_list:  [[1, 0, 1, 1, 30, 30, 1, 0], [2, 1, 2, 31, 11, 20, 1, 0], [3, 0, 3, 3, 32, 10, 2, 0], [4, 0, 4, 4, 30, 5, 1, 0], [5, 3, 4, 5, 4, 8, 1, 0], [6, 0, 5, 6, 30, 10, 1, 0], [7, 3, 6, 7, 11, 11, 1, 0], [8, 0, 7, 8, 32, 14, 2, 0], [9, 2, 8, 30, 40, 9, 1, 0], [10, 2, 9, 32, 41, 10, 2, 0]]\n",
      "[encoding]: encoded device_list:  [[1, 1, 0], [2, 1, 0], [3, 1, 0], [4, 1, 0], [5, 0, 0], [6, 0, 0]]\n"
     ]
    }
   ],
   "source": [
    "import gymnasium as gym\n",
    "\n",
    "env = WarehouseEnv()"
   ]
  },
  {
   "cell_type": "code",
   "execution_count": 17,
   "metadata": {},
   "outputs": [
    {
     "name": "stdout",
     "output_type": "stream",
     "text": [
      "[encoding]: encoded task_list:  [[1, 0, 1, 1, 30, 30, 1, 0], [2, 1, 2, 31, 11, 20, 1, 0], [3, 0, 3, 3, 32, 10, 2, 0], [4, 0, 4, 4, 30, 5, 1, 0], [5, 3, 4, 5, 4, 8, 1, 0], [6, 0, 5, 6, 30, 10, 1, 0], [7, 3, 6, 7, 11, 11, 1, 0], [8, 0, 7, 8, 32, 14, 2, 0], [9, 2, 8, 30, 40, 9, 1, 0], [10, 2, 9, 32, 41, 10, 2, 0]]\n",
      "[encoding]: encoded device_list:  [[1, 1, 0], [2, 1, 0], [3, 1, 0], [4, 1, 0], [5, 0, 0], [6, 0, 0]]\n",
      "----\n",
      "[[ 1  0  1  1 30 30  1  0]\n",
      " [ 2  1  2 31 11 20  1  0]\n",
      " [ 3  0  3  3 32 10  2  0]\n",
      " [ 4  0  4  4 30  5  1  0]\n",
      " [ 5  3  4  5  4  8  1  0]\n",
      " [ 6  0  5  6 30 10  1  0]\n",
      " [ 7  3  6  7 11 11  1  0]\n",
      " [ 8  0  7  8 32 14  2  0]\n",
      " [ 9  2  8 30 40  9  1  0]\n",
      " [10  2  9 32 41 10  2  0]]\n"
     ]
    }
   ],
   "source": [
    "# print(task_list)\n",
    "# print(env.observation_space['devices'])\n",
    "# print(env.observation_space['tasks'])\n",
    "\n",
    "tasks = env.observation_space['tasks']\n",
    "\n",
    "\n",
    "next_state, reward = env.reset()\n",
    "\n",
    "print(\"----\")\n",
    "print(next_state['tasks'])\n",
    "tasks = next_state['tasks']\n",
    "\n",
    "\n",
    "available_tasks = tasks[tasks[:, 7] == 0]\n",
    "# env.action_space.n"
   ]
  },
  {
   "cell_type": "code",
   "execution_count": 21,
   "metadata": {},
   "outputs": [
    {
     "name": "stdout",
     "output_type": "stream",
     "text": [
      "(6, 3)\n"
     ]
    },
    {
     "data": {
      "text/plain": [
       "10"
      ]
     },
     "execution_count": 21,
     "metadata": {},
     "output_type": "execute_result"
    }
   ],
   "source": [
    "print(env.observation_space['devices'].shape)\n",
    "env.action_space.n"
   ]
  },
  {
   "cell_type": "code",
   "execution_count": 38,
   "metadata": {},
   "outputs": [
    {
     "name": "stdout",
     "output_type": "stream",
     "text": [
      "[encoding]: encoded task_list:  [[1, 0, 1, 1, 30, 30, 1, 0], [2, 1, 2, 31, 11, 20, 1, 0], [3, 0, 3, 3, 32, 10, 2, 0], [4, 0, 4, 4, 30, 5, 1, 0], [5, 3, 4, 5, 4, 8, 1, 0], [6, 0, 5, 6, 30, 10, 1, 0], [7, 3, 6, 7, 11, 11, 1, 0], [8, 0, 7, 8, 32, 14, 2, 0], [9, 2, 8, 30, 40, 9, 1, 0], [10, 2, 9, 32, 41, 10, 2, 0]]\n",
      "[encoding]: encoded device_list:  [[1, 1, 0], [2, 1, 0], [3, 1, 0], [4, 1, 0], [5, 0, 0], [6, 0, 0]]\n",
      "8\n"
     ]
    }
   ],
   "source": [
    "import random\n",
    "(state,info) = env.reset()\n",
    "\n",
    "tasks= state['tasks']\n",
    "\n",
    "TASK_STATUS = 7\n",
    "available_tasks = tasks[tasks[:, TASK_STATUS] == 0]\n",
    "available_task_ids = [sublist[0] for sublist in available_tasks]\n",
    "\n",
    "random_action = random.choice(available_task_ids)\n",
    "print(random_action)"
   ]
  },
  {
   "cell_type": "code",
   "execution_count": null,
   "metadata": {},
   "outputs": [
    {
     "data": {
      "text/plain": [
       "{'tasks': array([[88,  1, 46, 88, 48, 52, 79,  1],\n",
       "        [68,  3, 34, 31,  8, 30, 10,  2],\n",
       "        [69,  1, 96, 65, 56, 42,  8,  2],\n",
       "        [ 7,  1, 74, 65, 40, 19, 97,  2],\n",
       "        [50,  3, 41, 12, 42, 58, 52,  1],\n",
       "        [17,  2, 76, 19,  4, 22, 13,  1],\n",
       "        [79,  2, 96, 23, 70, 16,  1,  1],\n",
       "        [46,  0, 56, 95, 17, 52, 66,  0],\n",
       "        [57,  3, 93, 38, 36, 49, 46,  0],\n",
       "        [36,  0, 34, 87,  6, 38, 34,  0]]),\n",
       " 'devices': array([[96,  1,  1],\n",
       "        [79,  1,  0],\n",
       "        [31,  1,  1],\n",
       "        [67,  1,  1],\n",
       "        [ 5,  1,  0],\n",
       "        [85,  0,  0]])}"
      ]
     },
     "execution_count": 6,
     "metadata": {},
     "output_type": "execute_result"
    }
   ],
   "source": [
    "env.sample()"
   ]
  },
  {
   "cell_type": "code",
   "execution_count": 1,
   "metadata": {},
   "outputs": [],
   "source": [
    "import tensorflow as tf"
   ]
  },
  {
   "cell_type": "code",
   "execution_count": 1,
   "metadata": {},
   "outputs": [
    {
     "data": {
      "text/html": [
       "<div>\n",
       "<style scoped>\n",
       "    .dataframe tbody tr th:only-of-type {\n",
       "        vertical-align: middle;\n",
       "    }\n",
       "\n",
       "    .dataframe tbody tr th {\n",
       "        vertical-align: top;\n",
       "    }\n",
       "\n",
       "    .dataframe thead th {\n",
       "        text-align: right;\n",
       "    }\n",
       "</style>\n",
       "<table border=\"1\" class=\"dataframe\">\n",
       "  <thead>\n",
       "    <tr style=\"text-align: right;\">\n",
       "      <th></th>\n",
       "      <th>agent_id</th>\n",
       "      <th>type</th>\n",
       "      <th>status</th>\n",
       "      <th>reward</th>\n",
       "      <th>current_task</th>\n",
       "      <th>current_device</th>\n",
       "    </tr>\n",
       "  </thead>\n",
       "  <tbody>\n",
       "    <tr>\n",
       "      <th>0</th>\n",
       "      <td>1</td>\n",
       "      <td>human</td>\n",
       "      <td>available</td>\n",
       "      <td>0</td>\n",
       "      <td>-1</td>\n",
       "      <td>-1</td>\n",
       "    </tr>\n",
       "    <tr>\n",
       "      <th>1</th>\n",
       "      <td>2</td>\n",
       "      <td>human</td>\n",
       "      <td>available</td>\n",
       "      <td>0</td>\n",
       "      <td>-1</td>\n",
       "      <td>-1</td>\n",
       "    </tr>\n",
       "  </tbody>\n",
       "</table>\n",
       "</div>"
      ],
      "text/plain": [
       "   agent_id   type     status  reward  current_task  current_device\n",
       "0         1  human  available       0            -1              -1\n",
       "1         2  human  available       0            -1              -1"
      ]
     },
     "execution_count": 1,
     "metadata": {},
     "output_type": "execute_result"
    }
   ],
   "source": [
    "import pandas as pd\n",
    "agents = pd.read_csv('agents.csv') \n",
    "\n",
    "agents.head()"
   ]
  },
  {
   "cell_type": "code",
   "execution_count": 7,
   "metadata": {},
   "outputs": [
    {
     "name": "stdout",
     "output_type": "stream",
     "text": [
      "agent is a: human\n"
     ]
    }
   ],
   "source": [
    "agent_id = 1\n",
    "print(f\"agent is a: {agents.query(f'agent_id == {agent_id}')['type'].iloc[0]}\")"
   ]
  },
  {
   "cell_type": "code",
   "execution_count": 5,
   "metadata": {},
   "outputs": [
    {
     "name": "stdout",
     "output_type": "stream",
     "text": [
      "agent_id              1\n",
      "type              human\n",
      "status                0\n",
      "reward                0\n",
      "current_task         -1\n",
      "current_device       -1\n",
      "Name: 0, dtype: object\n"
     ]
    },
    {
     "data": {
      "text/html": [
       "<div>\n",
       "<style scoped>\n",
       "    .dataframe tbody tr th:only-of-type {\n",
       "        vertical-align: middle;\n",
       "    }\n",
       "\n",
       "    .dataframe tbody tr th {\n",
       "        vertical-align: top;\n",
       "    }\n",
       "\n",
       "    .dataframe thead th {\n",
       "        text-align: right;\n",
       "    }\n",
       "</style>\n",
       "<table border=\"1\" class=\"dataframe\">\n",
       "  <thead>\n",
       "    <tr style=\"text-align: right;\">\n",
       "      <th></th>\n",
       "      <th>agent_id</th>\n",
       "      <th>type</th>\n",
       "      <th>status</th>\n",
       "      <th>reward</th>\n",
       "      <th>current_task</th>\n",
       "      <th>current_device</th>\n",
       "    </tr>\n",
       "  </thead>\n",
       "  <tbody>\n",
       "    <tr>\n",
       "      <th>0</th>\n",
       "      <td>1</td>\n",
       "      <td>human</td>\n",
       "      <td>available</td>\n",
       "      <td>10</td>\n",
       "      <td>-1</td>\n",
       "      <td>-1</td>\n",
       "    </tr>\n",
       "  </tbody>\n",
       "</table>\n",
       "</div>"
      ],
      "text/plain": [
       "   agent_id   type     status  reward  current_task  current_device\n",
       "0         1  human  available      10            -1              -1"
      ]
     },
     "execution_count": 5,
     "metadata": {},
     "output_type": "execute_result"
    }
   ],
   "source": [
    "for index, agent in agents.iterrows():\n",
    "    agent['status'] = 0\n",
    "    agents.loc[index, 'reward'] = 10\n",
    "    print(agent)\n",
    "\n",
    "agents.head()"
   ]
  },
  {
   "cell_type": "code",
   "execution_count": 8,
   "metadata": {},
   "outputs": [
    {
     "data": {
      "text/plain": [
       "[1, 2, 3, 4, 5, 6, 7, 8, 9]"
      ]
     },
     "execution_count": 8,
     "metadata": {},
     "output_type": "execute_result"
    }
   ],
   "source": [
    "a = [1,4,2,6,8,3,5,7,9]\n",
    "a.sort()\n",
    "a"
   ]
  },
  {
   "cell_type": "code",
   "execution_count": 3,
   "metadata": {},
   "outputs": [
    {
     "name": "stdout",
     "output_type": "stream",
     "text": [
      "[encoding]: encoded task_list:  [[1, 0, 1, 4, 13, 20, 1, 0], [2, 0, 2, 5, 14, 20, 2, 0], [3, 0, 3, 6, 15, 20, 1, 0], [4, 0, 4, 7, 13, 20, 1, 0], [5, 0, 5, 8, 14, 20, 2, 0], [6, 0, 6, 9, 15, 20, 3, 0], [7, 0, 7, 10, 13, 20, 1, 0], [8, 0, 8, 4, 14, 20, 2, 0], [9, 0, 9, 5, 15, 20, 3, 0], [10, 0, 3, 6, 13, 20, 1, 0], [11, 0, 1, 7, 14, 20, 2, 0], [12, 0, 5, 8, 15, 20, 3, 0], [13, 0, 6, 9, 13, 20, 1, 0], [14, 0, 4, 10, 14, 20, 2, 0], [15, 0, 5, 4, 15, 20, 3, 0], [16, 3, 6, 8, 9, 20, 3, 0], [17, 3, 11, 10, 11, 20, -1, 0], [18, 3, 6, 6, 9, 20, 3, 0], [19, 3, 13, 10, 7, 20, -1, 0], [20, 3, 3, 7, 6, 20, 1, 0], [21, 3, 15, 4, 11, 20, -1, 0], [22, 3, 3, 11, 6, 20, 1, 0], [23, 3, 5, 7, 8, 20, 2, 0], [24, 3, 5, 8, 5, 20, -1, 0], [25, 3, 6, 9, 5, 20, -1, 0], [26, 3, 3, 9, 6, 20, 1, 0], [27, 3, 6, 10, 5, 20, -1, 0], [28, 3, 7, 5, 10, 20, -1, 0], [29, 3, 5, 11, 8, 20, 2, 0], [30, 3, 9, 12, 4, 20, -1, 0], [31, 1, 15, 1, 4, 20, -1, 0], [32, 1, 14, 2, 5, 20, -1, 0], [33, 1, 13, 3, 6, 20, -1, 0], [34, 1, 12, 1, 7, 20, -1, 0], [35, 1, 11, 2, 8, 20, -1, 0], [36, 1, 6, 3, 9, 20, -1, 0], [37, 1, 1, 1, 10, 20, -1, 0], [38, 1, 2, 2, 11, 20, -1, 0], [39, 1, 3, 3, 12, 20, -1, 0], [40, 1, 4, 1, 11, 20, -1, 0], [41, 1, 5, 2, 10, 20, -1, 0], [42, 1, 6, 3, 9, 20, -1, 0], [43, 1, 7, 1, 8, 20, -1, 0], [44, 1, 8, 2, 7, 20, -1, 0], [45, 1, 3, 3, 6, 20, -1, 0], [46, 2, 1, 13, 16, 20, 1, 0], [47, 2, 2, 14, 18, 20, 2, 0], [48, 2, 3, 15, 20, 20, 1, 0], [49, 2, 4, 13, 16, 20, 1, 0], [50, 2, 5, 14, 18, 20, 2, 0], [51, 2, 6, 15, 20, 20, 3, 0], [52, 2, 7, 13, 16, 20, 1, 0], [53, 2, 8, 14, 18, 20, 2, 0], [54, 2, 9, 15, 20, 20, 3, 0], [55, 2, 3, 13, 16, 20, 1, 0], [56, 2, 1, 14, 18, 20, 2, 0], [57, 2, 5, 15, 20, 20, 3, 0], [58, 2, 6, 13, 16, 20, 1, 0], [59, 2, 4, 14, 18, 20, 2, 0], [60, 2, 5, 15, 20, 20, 3, 0]]\n",
      "[encoding]: encoded device_list:  [[1, 1, 0, -1], [2, 1, 0, -1], [3, 1, 0, -1]]\n",
      "==>[from env - __init__]: shelf_locations: \n",
      "    location_id      X      Y left_or_right\n",
      "0            1  128.0  128.0          left\n",
      "1            3  128.0  178.0          left\n",
      "2            5  128.0  228.0          left\n",
      "3            7  128.0  278.0          left\n",
      "4            9  128.0  328.0          left\n",
      "5           11  128.0  378.0          left\n",
      "6           13  128.0  428.0          left\n",
      "7           15  128.0  478.0          left\n",
      "8            2  384.0  128.0         right\n",
      "9            4  384.0  178.0         right\n",
      "10           6  384.0  228.0         right\n",
      "11           8  384.0  278.0         right\n",
      "12          10  384.0  328.0         right\n",
      "13          12  384.0  378.0         right\n",
      "14          14  384.0  428.0         right\n",
      "15          16  384.0  478.0         right\n",
      "16          18  384.0  528.0         right\n",
      "17          20  384.0  578.0         right\n"
     ]
    },
    {
     "name": "stderr",
     "output_type": "stream",
     "text": [
      "d:\\Ashan Personal\\MSC AI Moratuwa Campus\\My Research\\MARL Based Warehouse Task Assignment - Implementation\\WarehouseEnv_V0.py:322: FutureWarning: The behavior of DataFrame concatenation with empty or all-NA entries is deprecated. In a future version, this will no longer exclude empty or all-NA columns when determining the result dtypes. To retain the old behavior, exclude the relevant entries before the concat operation.\n",
      "  shelf_locations = pd.concat([shelf_locations, self_location_rec], ignore_index=True)\n"
     ]
    },
    {
     "ename": "TypeError",
     "evalue": "Could not locate function 'mse'. Make sure custom classes are decorated with `@keras.saving.register_keras_serializable()`. Full object config: {'module': 'keras.metrics', 'class_name': 'function', 'config': 'mse', 'registered_name': 'mse'}",
     "output_type": "error",
     "traceback": [
      "\u001b[1;31m---------------------------------------------------------------------------\u001b[0m",
      "\u001b[1;31mTypeError\u001b[0m                                 Traceback (most recent call last)",
      "Cell \u001b[1;32mIn[3], line 7\u001b[0m\n\u001b[0;32m      4\u001b[0m \u001b[38;5;28;01mfrom\u001b[39;00m \u001b[38;5;21;01mWarehouseEnv_V0\u001b[39;00m \u001b[38;5;28;01mimport\u001b[39;00m WarehouseEnv\n\u001b[0;32m      5\u001b[0m env \u001b[38;5;241m=\u001b[39m WarehouseEnv()\n\u001b[1;32m----> 7\u001b[0m model \u001b[38;5;241m=\u001b[39m \u001b[43mload_model\u001b[49m\u001b[43m(\u001b[49m\u001b[38;5;124;43m'\u001b[39;49m\u001b[38;5;124;43mdqn_model.h5\u001b[39;49m\u001b[38;5;124;43m'\u001b[39;49m\u001b[43m)\u001b[49m\n\u001b[0;32m      9\u001b[0m state \u001b[38;5;241m=\u001b[39m env\u001b[38;5;241m.\u001b[39mreset()\n\u001b[0;32m     11\u001b[0m tasks \u001b[38;5;241m=\u001b[39m state[\u001b[38;5;124m'\u001b[39m\u001b[38;5;124mtasks\u001b[39m\u001b[38;5;124m'\u001b[39m]\n",
      "File \u001b[1;32mc:\\Users\\Ashan\\AppData\\Local\\Programs\\Python\\Python312\\Lib\\site-packages\\keras\\src\\saving\\saving_api.py:183\u001b[0m, in \u001b[0;36mload_model\u001b[1;34m(filepath, custom_objects, compile, safe_mode)\u001b[0m\n\u001b[0;32m    176\u001b[0m     \u001b[38;5;28;01mreturn\u001b[39;00m saving_lib\u001b[38;5;241m.\u001b[39mload_model(\n\u001b[0;32m    177\u001b[0m         filepath,\n\u001b[0;32m    178\u001b[0m         custom_objects\u001b[38;5;241m=\u001b[39mcustom_objects,\n\u001b[0;32m    179\u001b[0m         \u001b[38;5;28mcompile\u001b[39m\u001b[38;5;241m=\u001b[39m\u001b[38;5;28mcompile\u001b[39m,\n\u001b[0;32m    180\u001b[0m         safe_mode\u001b[38;5;241m=\u001b[39msafe_mode,\n\u001b[0;32m    181\u001b[0m     )\n\u001b[0;32m    182\u001b[0m \u001b[38;5;28;01mif\u001b[39;00m \u001b[38;5;28mstr\u001b[39m(filepath)\u001b[38;5;241m.\u001b[39mendswith((\u001b[38;5;124m\"\u001b[39m\u001b[38;5;124m.h5\u001b[39m\u001b[38;5;124m\"\u001b[39m, \u001b[38;5;124m\"\u001b[39m\u001b[38;5;124m.hdf5\u001b[39m\u001b[38;5;124m\"\u001b[39m)):\n\u001b[1;32m--> 183\u001b[0m     \u001b[38;5;28;01mreturn\u001b[39;00m \u001b[43mlegacy_h5_format\u001b[49m\u001b[38;5;241;43m.\u001b[39;49m\u001b[43mload_model_from_hdf5\u001b[49m\u001b[43m(\u001b[49m\u001b[43mfilepath\u001b[49m\u001b[43m)\u001b[49m\n\u001b[0;32m    184\u001b[0m \u001b[38;5;28;01melif\u001b[39;00m \u001b[38;5;28mstr\u001b[39m(filepath)\u001b[38;5;241m.\u001b[39mendswith(\u001b[38;5;124m\"\u001b[39m\u001b[38;5;124m.keras\u001b[39m\u001b[38;5;124m\"\u001b[39m):\n\u001b[0;32m    185\u001b[0m     \u001b[38;5;28;01mraise\u001b[39;00m \u001b[38;5;167;01mValueError\u001b[39;00m(\n\u001b[0;32m    186\u001b[0m         \u001b[38;5;124mf\u001b[39m\u001b[38;5;124m\"\u001b[39m\u001b[38;5;124mFile not found: filepath=\u001b[39m\u001b[38;5;132;01m{\u001b[39;00mfilepath\u001b[38;5;132;01m}\u001b[39;00m\u001b[38;5;124m. \u001b[39m\u001b[38;5;124m\"\u001b[39m\n\u001b[0;32m    187\u001b[0m         \u001b[38;5;124m\"\u001b[39m\u001b[38;5;124mPlease ensure the file is an accessible `.keras` \u001b[39m\u001b[38;5;124m\"\u001b[39m\n\u001b[0;32m    188\u001b[0m         \u001b[38;5;124m\"\u001b[39m\u001b[38;5;124mzip file.\u001b[39m\u001b[38;5;124m\"\u001b[39m\n\u001b[0;32m    189\u001b[0m     )\n",
      "File \u001b[1;32mc:\\Users\\Ashan\\AppData\\Local\\Programs\\Python\\Python312\\Lib\\site-packages\\keras\\src\\legacy\\saving\\legacy_h5_format.py:155\u001b[0m, in \u001b[0;36mload_model_from_hdf5\u001b[1;34m(filepath, custom_objects, compile)\u001b[0m\n\u001b[0;32m    151\u001b[0m training_config \u001b[38;5;241m=\u001b[39m json_utils\u001b[38;5;241m.\u001b[39mdecode(training_config)\n\u001b[0;32m    153\u001b[0m \u001b[38;5;66;03m# Compile model.\u001b[39;00m\n\u001b[0;32m    154\u001b[0m model\u001b[38;5;241m.\u001b[39mcompile(\n\u001b[1;32m--> 155\u001b[0m     \u001b[38;5;241m*\u001b[39m\u001b[38;5;241m*\u001b[39m\u001b[43msaving_utils\u001b[49m\u001b[38;5;241;43m.\u001b[39;49m\u001b[43mcompile_args_from_training_config\u001b[49m\u001b[43m(\u001b[49m\n\u001b[0;32m    156\u001b[0m \u001b[43m        \u001b[49m\u001b[43mtraining_config\u001b[49m\u001b[43m,\u001b[49m\u001b[43m \u001b[49m\u001b[43mcustom_objects\u001b[49m\n\u001b[0;32m    157\u001b[0m \u001b[43m    \u001b[49m\u001b[43m)\u001b[49m\n\u001b[0;32m    158\u001b[0m )\n\u001b[0;32m    159\u001b[0m saving_utils\u001b[38;5;241m.\u001b[39mtry_build_compiled_arguments(model)\n\u001b[0;32m    161\u001b[0m \u001b[38;5;66;03m# Set optimizer weights.\u001b[39;00m\n",
      "File \u001b[1;32mc:\\Users\\Ashan\\AppData\\Local\\Programs\\Python\\Python312\\Lib\\site-packages\\keras\\src\\legacy\\saving\\saving_utils.py:143\u001b[0m, in \u001b[0;36mcompile_args_from_training_config\u001b[1;34m(training_config, custom_objects)\u001b[0m\n\u001b[0;32m    141\u001b[0m loss_config \u001b[38;5;241m=\u001b[39m training_config\u001b[38;5;241m.\u001b[39mget(\u001b[38;5;124m\"\u001b[39m\u001b[38;5;124mloss\u001b[39m\u001b[38;5;124m\"\u001b[39m, \u001b[38;5;28;01mNone\u001b[39;00m)\n\u001b[0;32m    142\u001b[0m \u001b[38;5;28;01mif\u001b[39;00m loss_config \u001b[38;5;129;01mis\u001b[39;00m \u001b[38;5;129;01mnot\u001b[39;00m \u001b[38;5;28;01mNone\u001b[39;00m:\n\u001b[1;32m--> 143\u001b[0m     loss \u001b[38;5;241m=\u001b[39m \u001b[43m_deserialize_nested_config\u001b[49m\u001b[43m(\u001b[49m\u001b[43mlosses\u001b[49m\u001b[38;5;241;43m.\u001b[39;49m\u001b[43mdeserialize\u001b[49m\u001b[43m,\u001b[49m\u001b[43m \u001b[49m\u001b[43mloss_config\u001b[49m\u001b[43m)\u001b[49m\n\u001b[0;32m    144\u001b[0m     \u001b[38;5;66;03m# Ensure backwards compatibility for losses in legacy H5 files\u001b[39;00m\n\u001b[0;32m    145\u001b[0m     loss \u001b[38;5;241m=\u001b[39m _resolve_compile_arguments_compat(loss, loss_config, losses)\n",
      "File \u001b[1;32mc:\\Users\\Ashan\\AppData\\Local\\Programs\\Python\\Python312\\Lib\\site-packages\\keras\\src\\legacy\\saving\\saving_utils.py:202\u001b[0m, in \u001b[0;36m_deserialize_nested_config\u001b[1;34m(deserialize_fn, config)\u001b[0m\n\u001b[0;32m    200\u001b[0m     \u001b[38;5;28;01mreturn\u001b[39;00m \u001b[38;5;28;01mNone\u001b[39;00m\n\u001b[0;32m    201\u001b[0m \u001b[38;5;28;01mif\u001b[39;00m _is_single_object(config):\n\u001b[1;32m--> 202\u001b[0m     \u001b[38;5;28;01mreturn\u001b[39;00m \u001b[43mdeserialize_fn\u001b[49m\u001b[43m(\u001b[49m\u001b[43mconfig\u001b[49m\u001b[43m)\u001b[49m\n\u001b[0;32m    203\u001b[0m \u001b[38;5;28;01melif\u001b[39;00m \u001b[38;5;28misinstance\u001b[39m(config, \u001b[38;5;28mdict\u001b[39m):\n\u001b[0;32m    204\u001b[0m     \u001b[38;5;28;01mreturn\u001b[39;00m {\n\u001b[0;32m    205\u001b[0m         k: _deserialize_nested_config(deserialize_fn, v)\n\u001b[0;32m    206\u001b[0m         \u001b[38;5;28;01mfor\u001b[39;00m k, v \u001b[38;5;129;01min\u001b[39;00m config\u001b[38;5;241m.\u001b[39mitems()\n\u001b[0;32m    207\u001b[0m     }\n",
      "File \u001b[1;32mc:\\Users\\Ashan\\AppData\\Local\\Programs\\Python\\Python312\\Lib\\site-packages\\keras\\src\\losses\\__init__.py:124\u001b[0m, in \u001b[0;36mdeserialize\u001b[1;34m(name, custom_objects)\u001b[0m\n\u001b[0;32m    111\u001b[0m \u001b[38;5;129m@keras_export\u001b[39m(\u001b[38;5;124m\"\u001b[39m\u001b[38;5;124mkeras.losses.deserialize\u001b[39m\u001b[38;5;124m\"\u001b[39m)\n\u001b[0;32m    112\u001b[0m \u001b[38;5;28;01mdef\u001b[39;00m \u001b[38;5;21mdeserialize\u001b[39m(name, custom_objects\u001b[38;5;241m=\u001b[39m\u001b[38;5;28;01mNone\u001b[39;00m):\n\u001b[0;32m    113\u001b[0m \u001b[38;5;250m    \u001b[39m\u001b[38;5;124;03m\"\"\"Deserializes a serialized loss class/function instance.\u001b[39;00m\n\u001b[0;32m    114\u001b[0m \n\u001b[0;32m    115\u001b[0m \u001b[38;5;124;03m    Args:\u001b[39;00m\n\u001b[1;32m   (...)\u001b[0m\n\u001b[0;32m    122\u001b[0m \u001b[38;5;124;03m        A Keras `Loss` instance or a loss function.\u001b[39;00m\n\u001b[0;32m    123\u001b[0m \u001b[38;5;124;03m    \"\"\"\u001b[39;00m\n\u001b[1;32m--> 124\u001b[0m     \u001b[38;5;28;01mreturn\u001b[39;00m \u001b[43mserialization_lib\u001b[49m\u001b[38;5;241;43m.\u001b[39;49m\u001b[43mdeserialize_keras_object\u001b[49m\u001b[43m(\u001b[49m\n\u001b[0;32m    125\u001b[0m \u001b[43m        \u001b[49m\u001b[43mname\u001b[49m\u001b[43m,\u001b[49m\n\u001b[0;32m    126\u001b[0m \u001b[43m        \u001b[49m\u001b[43mmodule_objects\u001b[49m\u001b[38;5;241;43m=\u001b[39;49m\u001b[43mALL_OBJECTS_DICT\u001b[49m\u001b[43m,\u001b[49m\n\u001b[0;32m    127\u001b[0m \u001b[43m        \u001b[49m\u001b[43mcustom_objects\u001b[49m\u001b[38;5;241;43m=\u001b[39;49m\u001b[43mcustom_objects\u001b[49m\u001b[43m,\u001b[49m\n\u001b[0;32m    128\u001b[0m \u001b[43m    \u001b[49m\u001b[43m)\u001b[49m\n",
      "File \u001b[1;32mc:\\Users\\Ashan\\AppData\\Local\\Programs\\Python\\Python312\\Lib\\site-packages\\keras\\src\\saving\\serialization_lib.py:570\u001b[0m, in \u001b[0;36mdeserialize_keras_object\u001b[1;34m(config, custom_objects, safe_mode, **kwargs)\u001b[0m\n\u001b[0;32m    568\u001b[0m             \u001b[38;5;28;01mreturn\u001b[39;00m config\n\u001b[0;32m    569\u001b[0m         \u001b[38;5;28;01mif\u001b[39;00m \u001b[38;5;28misinstance\u001b[39m(module_objects[config], types\u001b[38;5;241m.\u001b[39mFunctionType):\n\u001b[1;32m--> 570\u001b[0m             \u001b[38;5;28;01mreturn\u001b[39;00m \u001b[43mdeserialize_keras_object\u001b[49m\u001b[43m(\u001b[49m\n\u001b[0;32m    571\u001b[0m \u001b[43m                \u001b[49m\u001b[43mserialize_with_public_fn\u001b[49m\u001b[43m(\u001b[49m\n\u001b[0;32m    572\u001b[0m \u001b[43m                    \u001b[49m\u001b[43mmodule_objects\u001b[49m\u001b[43m[\u001b[49m\u001b[43mconfig\u001b[49m\u001b[43m]\u001b[49m\u001b[43m,\u001b[49m\u001b[43m \u001b[49m\u001b[43mconfig\u001b[49m\u001b[43m,\u001b[49m\u001b[43m \u001b[49m\u001b[43mfn_module_name\u001b[49m\n\u001b[0;32m    573\u001b[0m \u001b[43m                \u001b[49m\u001b[43m)\u001b[49m\u001b[43m,\u001b[49m\n\u001b[0;32m    574\u001b[0m \u001b[43m                \u001b[49m\u001b[43mcustom_objects\u001b[49m\u001b[38;5;241;43m=\u001b[39;49m\u001b[43mcustom_objects\u001b[49m\u001b[43m,\u001b[49m\n\u001b[0;32m    575\u001b[0m \u001b[43m            \u001b[49m\u001b[43m)\u001b[49m\n\u001b[0;32m    576\u001b[0m         \u001b[38;5;28;01mreturn\u001b[39;00m deserialize_keras_object(\n\u001b[0;32m    577\u001b[0m             serialize_with_public_class(\n\u001b[0;32m    578\u001b[0m                 module_objects[config], inner_config\u001b[38;5;241m=\u001b[39minner_config\n\u001b[0;32m    579\u001b[0m             ),\n\u001b[0;32m    580\u001b[0m             custom_objects\u001b[38;5;241m=\u001b[39mcustom_objects,\n\u001b[0;32m    581\u001b[0m         )\n\u001b[0;32m    583\u001b[0m \u001b[38;5;28;01mif\u001b[39;00m \u001b[38;5;28misinstance\u001b[39m(config, PLAIN_TYPES):\n",
      "File \u001b[1;32mc:\\Users\\Ashan\\AppData\\Local\\Programs\\Python\\Python312\\Lib\\site-packages\\keras\\src\\saving\\serialization_lib.py:671\u001b[0m, in \u001b[0;36mdeserialize_keras_object\u001b[1;34m(config, custom_objects, safe_mode, **kwargs)\u001b[0m\n\u001b[0;32m    669\u001b[0m \u001b[38;5;28;01mif\u001b[39;00m class_name \u001b[38;5;241m==\u001b[39m \u001b[38;5;124m\"\u001b[39m\u001b[38;5;124mfunction\u001b[39m\u001b[38;5;124m\"\u001b[39m:\n\u001b[0;32m    670\u001b[0m     fn_name \u001b[38;5;241m=\u001b[39m inner_config\n\u001b[1;32m--> 671\u001b[0m     \u001b[38;5;28;01mreturn\u001b[39;00m \u001b[43m_retrieve_class_or_fn\u001b[49m\u001b[43m(\u001b[49m\n\u001b[0;32m    672\u001b[0m \u001b[43m        \u001b[49m\u001b[43mfn_name\u001b[49m\u001b[43m,\u001b[49m\n\u001b[0;32m    673\u001b[0m \u001b[43m        \u001b[49m\u001b[43mregistered_name\u001b[49m\u001b[43m,\u001b[49m\n\u001b[0;32m    674\u001b[0m \u001b[43m        \u001b[49m\u001b[43mmodule\u001b[49m\u001b[43m,\u001b[49m\n\u001b[0;32m    675\u001b[0m \u001b[43m        \u001b[49m\u001b[43mobj_type\u001b[49m\u001b[38;5;241;43m=\u001b[39;49m\u001b[38;5;124;43m\"\u001b[39;49m\u001b[38;5;124;43mfunction\u001b[39;49m\u001b[38;5;124;43m\"\u001b[39;49m\u001b[43m,\u001b[49m\n\u001b[0;32m    676\u001b[0m \u001b[43m        \u001b[49m\u001b[43mfull_config\u001b[49m\u001b[38;5;241;43m=\u001b[39;49m\u001b[43mconfig\u001b[49m\u001b[43m,\u001b[49m\n\u001b[0;32m    677\u001b[0m \u001b[43m        \u001b[49m\u001b[43mcustom_objects\u001b[49m\u001b[38;5;241;43m=\u001b[39;49m\u001b[43mcustom_objects\u001b[49m\u001b[43m,\u001b[49m\n\u001b[0;32m    678\u001b[0m \u001b[43m    \u001b[49m\u001b[43m)\u001b[49m\n\u001b[0;32m    680\u001b[0m \u001b[38;5;66;03m# Below, handling of all classes.\u001b[39;00m\n\u001b[0;32m    681\u001b[0m \u001b[38;5;66;03m# First, is it a shared object?\u001b[39;00m\n\u001b[0;32m    682\u001b[0m \u001b[38;5;28;01mif\u001b[39;00m \u001b[38;5;124m\"\u001b[39m\u001b[38;5;124mshared_object_id\u001b[39m\u001b[38;5;124m\"\u001b[39m \u001b[38;5;129;01min\u001b[39;00m config:\n",
      "File \u001b[1;32mc:\\Users\\Ashan\\AppData\\Local\\Programs\\Python\\Python312\\Lib\\site-packages\\keras\\src\\saving\\serialization_lib.py:805\u001b[0m, in \u001b[0;36m_retrieve_class_or_fn\u001b[1;34m(name, registered_name, module, obj_type, full_config, custom_objects)\u001b[0m\n\u001b[0;32m    802\u001b[0m     \u001b[38;5;28;01mif\u001b[39;00m obj \u001b[38;5;129;01mis\u001b[39;00m \u001b[38;5;129;01mnot\u001b[39;00m \u001b[38;5;28;01mNone\u001b[39;00m:\n\u001b[0;32m    803\u001b[0m         \u001b[38;5;28;01mreturn\u001b[39;00m obj\n\u001b[1;32m--> 805\u001b[0m \u001b[38;5;28;01mraise\u001b[39;00m \u001b[38;5;167;01mTypeError\u001b[39;00m(\n\u001b[0;32m    806\u001b[0m     \u001b[38;5;124mf\u001b[39m\u001b[38;5;124m\"\u001b[39m\u001b[38;5;124mCould not locate \u001b[39m\u001b[38;5;132;01m{\u001b[39;00mobj_type\u001b[38;5;132;01m}\u001b[39;00m\u001b[38;5;124m \u001b[39m\u001b[38;5;124m'\u001b[39m\u001b[38;5;132;01m{\u001b[39;00mname\u001b[38;5;132;01m}\u001b[39;00m\u001b[38;5;124m'\u001b[39m\u001b[38;5;124m. \u001b[39m\u001b[38;5;124m\"\u001b[39m\n\u001b[0;32m    807\u001b[0m     \u001b[38;5;124m\"\u001b[39m\u001b[38;5;124mMake sure custom classes are decorated with \u001b[39m\u001b[38;5;124m\"\u001b[39m\n\u001b[0;32m    808\u001b[0m     \u001b[38;5;124m\"\u001b[39m\u001b[38;5;124m`@keras.saving.register_keras_serializable()`. \u001b[39m\u001b[38;5;124m\"\u001b[39m\n\u001b[0;32m    809\u001b[0m     \u001b[38;5;124mf\u001b[39m\u001b[38;5;124m\"\u001b[39m\u001b[38;5;124mFull object config: \u001b[39m\u001b[38;5;132;01m{\u001b[39;00mfull_config\u001b[38;5;132;01m}\u001b[39;00m\u001b[38;5;124m\"\u001b[39m\n\u001b[0;32m    810\u001b[0m )\n",
      "\u001b[1;31mTypeError\u001b[0m: Could not locate function 'mse'. Make sure custom classes are decorated with `@keras.saving.register_keras_serializable()`. Full object config: {'module': 'keras.metrics', 'class_name': 'function', 'config': 'mse', 'registered_name': 'mse'}"
     ]
    }
   ],
   "source": [
    "from keras.models import load_model\n",
    "import gymnasium as gym\n",
    "\n",
    "from WarehouseEnv_V0 import WarehouseEnv\n",
    "env = WarehouseEnv()\n",
    "\n",
    "model = load_model('dqn_model.keras')\n",
    "\n",
    "state = env.reset()\n",
    "\n",
    "tasks = state['tasks']\n",
    "devices = state['devices']\n",
    "\n",
    "print(tasks)\n",
    "print(devices)\n"
   ]
  }
 ],
 "metadata": {
  "kernelspec": {
   "display_name": "Python 3",
   "language": "python",
   "name": "python3"
  },
  "language_info": {
   "codemirror_mode": {
    "name": "ipython",
    "version": 3
   },
   "file_extension": ".py",
   "mimetype": "text/x-python",
   "name": "python",
   "nbconvert_exporter": "python",
   "pygments_lexer": "ipython3",
   "version": "3.12.0"
  }
 },
 "nbformat": 4,
 "nbformat_minor": 2
}
