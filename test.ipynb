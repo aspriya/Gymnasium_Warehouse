{
 "cells": [
  {
   "cell_type": "code",
   "execution_count": 1,
   "metadata": {},
   "outputs": [
    {
     "data": {
      "text/html": [
       "<div>\n",
       "<style scoped>\n",
       "    .dataframe tbody tr th:only-of-type {\n",
       "        vertical-align: middle;\n",
       "    }\n",
       "\n",
       "    .dataframe tbody tr th {\n",
       "        vertical-align: top;\n",
       "    }\n",
       "\n",
       "    .dataframe thead th {\n",
       "        text-align: right;\n",
       "    }\n",
       "</style>\n",
       "<table border=\"1\" class=\"dataframe\">\n",
       "  <thead>\n",
       "    <tr style=\"text-align: right;\">\n",
       "      <th></th>\n",
       "      <th>task_id</th>\n",
       "      <th>type</th>\n",
       "      <th>product</th>\n",
       "      <th>from loc</th>\n",
       "      <th>to loc</th>\n",
       "      <th>time</th>\n",
       "      <th>order</th>\n",
       "      <th>status</th>\n",
       "    </tr>\n",
       "  </thead>\n",
       "  <tbody>\n",
       "    <tr>\n",
       "      <th>0</th>\n",
       "      <td>1</td>\n",
       "      <td>pick</td>\n",
       "      <td>p1</td>\n",
       "      <td>l1</td>\n",
       "      <td>l30</td>\n",
       "      <td>30</td>\n",
       "      <td>o1</td>\n",
       "      <td>available</td>\n",
       "    </tr>\n",
       "    <tr>\n",
       "      <th>1</th>\n",
       "      <td>2</td>\n",
       "      <td>put</td>\n",
       "      <td>p2</td>\n",
       "      <td>l31</td>\n",
       "      <td>l11</td>\n",
       "      <td>20</td>\n",
       "      <td>NaN</td>\n",
       "      <td>available</td>\n",
       "    </tr>\n",
       "    <tr>\n",
       "      <th>2</th>\n",
       "      <td>3</td>\n",
       "      <td>pick</td>\n",
       "      <td>p3</td>\n",
       "      <td>l3</td>\n",
       "      <td>l32</td>\n",
       "      <td>10</td>\n",
       "      <td>o2</td>\n",
       "      <td>available</td>\n",
       "    </tr>\n",
       "    <tr>\n",
       "      <th>3</th>\n",
       "      <td>4</td>\n",
       "      <td>pick</td>\n",
       "      <td>p4</td>\n",
       "      <td>l4</td>\n",
       "      <td>l30</td>\n",
       "      <td>5</td>\n",
       "      <td>o1</td>\n",
       "      <td>available</td>\n",
       "    </tr>\n",
       "    <tr>\n",
       "      <th>4</th>\n",
       "      <td>5</td>\n",
       "      <td>repl</td>\n",
       "      <td>p4</td>\n",
       "      <td>l5</td>\n",
       "      <td>l4</td>\n",
       "      <td>8</td>\n",
       "      <td>o1</td>\n",
       "      <td>available</td>\n",
       "    </tr>\n",
       "  </tbody>\n",
       "</table>\n",
       "</div>"
      ],
      "text/plain": [
       "   task_id  type product from loc to loc  time order     status\n",
       "0        1  pick      p1       l1    l30    30    o1  available\n",
       "1        2   put      p2      l31    l11    20   NaN  available\n",
       "2        3  pick      p3       l3    l32    10    o2  available\n",
       "3        4  pick      p4       l4    l30     5    o1  available\n",
       "4        5  repl      p4       l5     l4     8    o1  available"
      ]
     },
     "execution_count": 1,
     "metadata": {},
     "output_type": "execute_result"
    }
   ],
   "source": [
    "import numpy as np\n",
    "import pandas as pd\n",
    "\n",
    "tasks = pd.read_csv('tasks.csv')\n",
    "tasks.head()"
   ]
  },
  {
   "cell_type": "code",
   "execution_count": 2,
   "metadata": {},
   "outputs": [
    {
     "name": "stdout",
     "output_type": "stream",
     "text": [
      "[[1, 0, '1', '1', '30', 30, '1', 0], [2, 1, '2', '31', '11', 20, '0', 0], [3, 0, '3', '3', '32', 10, '2', 0], [4, 0, '4', '4', '30', 5, '1', 0], [5, 3, '4', '5', '4', 8, '1', 0], [6, 0, '5', '6', '30', 10, '1', 0], [7, 3, '6', '7', '11', 11, '0', 0], [8, 0, '7', '8', '32', 14, '2', 0], [9, 2, '8', '30', '40', 9, '1', 0], [10, 2, '9', '32', '41', 10, '2', 0]]\n"
     ]
    },
    {
     "data": {
      "text/html": [
       "<div>\n",
       "<style scoped>\n",
       "    .dataframe tbody tr th:only-of-type {\n",
       "        vertical-align: middle;\n",
       "    }\n",
       "\n",
       "    .dataframe tbody tr th {\n",
       "        vertical-align: top;\n",
       "    }\n",
       "\n",
       "    .dataframe thead th {\n",
       "        text-align: right;\n",
       "    }\n",
       "</style>\n",
       "<table border=\"1\" class=\"dataframe\">\n",
       "  <thead>\n",
       "    <tr style=\"text-align: right;\">\n",
       "      <th></th>\n",
       "      <th>task_id</th>\n",
       "      <th>type</th>\n",
       "      <th>product</th>\n",
       "      <th>from loc</th>\n",
       "      <th>to loc</th>\n",
       "      <th>time</th>\n",
       "      <th>order</th>\n",
       "      <th>status</th>\n",
       "    </tr>\n",
       "  </thead>\n",
       "  <tbody>\n",
       "    <tr>\n",
       "      <th>0</th>\n",
       "      <td>1</td>\n",
       "      <td>0</td>\n",
       "      <td>1</td>\n",
       "      <td>1</td>\n",
       "      <td>30</td>\n",
       "      <td>30</td>\n",
       "      <td>1</td>\n",
       "      <td>0</td>\n",
       "    </tr>\n",
       "    <tr>\n",
       "      <th>1</th>\n",
       "      <td>2</td>\n",
       "      <td>1</td>\n",
       "      <td>2</td>\n",
       "      <td>31</td>\n",
       "      <td>11</td>\n",
       "      <td>20</td>\n",
       "      <td>0</td>\n",
       "      <td>0</td>\n",
       "    </tr>\n",
       "    <tr>\n",
       "      <th>2</th>\n",
       "      <td>3</td>\n",
       "      <td>0</td>\n",
       "      <td>3</td>\n",
       "      <td>3</td>\n",
       "      <td>32</td>\n",
       "      <td>10</td>\n",
       "      <td>2</td>\n",
       "      <td>0</td>\n",
       "    </tr>\n",
       "    <tr>\n",
       "      <th>3</th>\n",
       "      <td>4</td>\n",
       "      <td>0</td>\n",
       "      <td>4</td>\n",
       "      <td>4</td>\n",
       "      <td>30</td>\n",
       "      <td>5</td>\n",
       "      <td>1</td>\n",
       "      <td>0</td>\n",
       "    </tr>\n",
       "    <tr>\n",
       "      <th>4</th>\n",
       "      <td>5</td>\n",
       "      <td>3</td>\n",
       "      <td>4</td>\n",
       "      <td>5</td>\n",
       "      <td>4</td>\n",
       "      <td>8</td>\n",
       "      <td>1</td>\n",
       "      <td>0</td>\n",
       "    </tr>\n",
       "  </tbody>\n",
       "</table>\n",
       "</div>"
      ],
      "text/plain": [
       "   task_id  type product from loc to loc  time order  status\n",
       "0        1     0       1        1     30    30     1       0\n",
       "1        2     1       2       31     11    20     0       0\n",
       "2        3     0       3        3     32    10     2       0\n",
       "3        4     0       4        4     30     5     1       0\n",
       "4        5     3       4        5      4     8     1       0"
      ]
     },
     "execution_count": 2,
     "metadata": {},
     "output_type": "execute_result"
    }
   ],
   "source": [
    "# encode the df\n",
    "\n",
    "# encode \"type\"\n",
    "type_encoding = {\n",
    "    \"pick\": 0,\n",
    "    \"put\": 1,\n",
    "    \"load\": 2,\n",
    "    \"repl\": 3\n",
    "}\n",
    "tasks[\"type\"] = tasks[\"type\"].map(type_encoding)\n",
    "\n",
    "tasks[\"product\"] = tasks[\"product\"].apply(lambda prod:  prod[1:]) # encode product\n",
    "tasks[\"from loc\"] = tasks[\"from loc\"].apply(lambda loc:  loc[1:]) # encode from loc\n",
    "tasks[\"to loc\"] = tasks[\"to loc\"].apply(lambda loc:  loc[1:]) # encode to loc\n",
    "\n",
    "tasks.fillna({'order':'o0'}, inplace=True)  # encode to order\n",
    "tasks[\"order\"] = tasks[\"order\"].apply(lambda order:  order[1:])\n",
    "\n",
    "\n",
    "# encode status\n",
    "status_encoding = {\n",
    "    \"available\": 0,\n",
    "    \"active\": 1,\n",
    "    \"done\": 2,\n",
    "}\n",
    "tasks[\"status\"] = tasks[\"status\"].map(status_encoding)\n",
    "\n",
    "task_list = tasks.to_numpy().tolist()\n",
    "print(task_list)\n",
    "\n",
    "tasks.head()\n",
    "\n"
   ]
  },
  {
   "cell_type": "code",
   "execution_count": 3,
   "metadata": {},
   "outputs": [
    {
     "name": "stdout",
     "output_type": "stream",
     "text": [
      "[[1, 0, 0], [2, 0, 0], [3, 0, 0], [4, 0, 0], [5, 1, 0], [6, 1, 0]]\n"
     ]
    },
    {
     "data": {
      "text/html": [
       "<div>\n",
       "<style scoped>\n",
       "    .dataframe tbody tr th:only-of-type {\n",
       "        vertical-align: middle;\n",
       "    }\n",
       "\n",
       "    .dataframe tbody tr th {\n",
       "        vertical-align: top;\n",
       "    }\n",
       "\n",
       "    .dataframe thead th {\n",
       "        text-align: right;\n",
       "    }\n",
       "</style>\n",
       "<table border=\"1\" class=\"dataframe\">\n",
       "  <thead>\n",
       "    <tr style=\"text-align: right;\">\n",
       "      <th></th>\n",
       "      <th>device_id</th>\n",
       "      <th>type</th>\n",
       "      <th>status</th>\n",
       "    </tr>\n",
       "  </thead>\n",
       "  <tbody>\n",
       "    <tr>\n",
       "      <th>0</th>\n",
       "      <td>1</td>\n",
       "      <td>0</td>\n",
       "      <td>0</td>\n",
       "    </tr>\n",
       "    <tr>\n",
       "      <th>1</th>\n",
       "      <td>2</td>\n",
       "      <td>0</td>\n",
       "      <td>0</td>\n",
       "    </tr>\n",
       "    <tr>\n",
       "      <th>2</th>\n",
       "      <td>3</td>\n",
       "      <td>0</td>\n",
       "      <td>0</td>\n",
       "    </tr>\n",
       "    <tr>\n",
       "      <th>3</th>\n",
       "      <td>4</td>\n",
       "      <td>0</td>\n",
       "      <td>0</td>\n",
       "    </tr>\n",
       "    <tr>\n",
       "      <th>4</th>\n",
       "      <td>5</td>\n",
       "      <td>1</td>\n",
       "      <td>0</td>\n",
       "    </tr>\n",
       "    <tr>\n",
       "      <th>5</th>\n",
       "      <td>6</td>\n",
       "      <td>1</td>\n",
       "      <td>0</td>\n",
       "    </tr>\n",
       "  </tbody>\n",
       "</table>\n",
       "</div>"
      ],
      "text/plain": [
       "   device_id  type  status\n",
       "0          1     0       0\n",
       "1          2     0       0\n",
       "2          3     0       0\n",
       "3          4     0       0\n",
       "4          5     1       0\n",
       "5          6     1       0"
      ]
     },
     "execution_count": 3,
     "metadata": {},
     "output_type": "execute_result"
    }
   ],
   "source": [
    "devices = pd.read_csv('devices.csv')\n",
    "# devices.head()\n",
    "\n",
    "# type encodings\n",
    "type_encodings = {\n",
    "    \"forklift\": 0,\n",
    "    \"pallet_jack\": 1\n",
    "}\n",
    "devices[\"type\"] = devices[\"type\"].map(type_encodings)\n",
    "\n",
    "# encode status\n",
    "status_encoding = {\n",
    "    \"available\": 0,\n",
    "    \"active\": 1,\n",
    "}\n",
    "devices[\"status\"] = devices[\"status\"].map(status_encoding)\n",
    "\n",
    "device_list = devices.to_numpy().tolist()\n",
    "print(device_list)\n",
    "\n",
    "devices.head(10)"
   ]
  },
  {
   "cell_type": "code",
   "execution_count": 4,
   "metadata": {},
   "outputs": [],
   "source": [
    "from WarehouseEnv_V0 import WarehouseEnv\n",
    "\n",
    "from stable_baselines3.common.env_checker import check_env"
   ]
  },
  {
   "cell_type": "code",
   "execution_count": 5,
   "metadata": {},
   "outputs": [
    {
     "name": "stdout",
     "output_type": "stream",
     "text": [
      "[encoding]: encoded task_list:  [[1, 0, 1, 1, 30, 30, 1, 0], [2, 1, 2, 31, 11, 20, 1, 0], [3, 0, 3, 3, 32, 10, 2, 0], [4, 0, 4, 4, 30, 5, 1, 0], [5, 3, 4, 5, 4, 8, 1, 0], [6, 0, 5, 6, 30, 10, 1, 0], [7, 3, 6, 7, 11, 11, 1, 0], [8, 0, 7, 8, 32, 14, 2, 0], [9, 2, 8, 30, 40, 9, 1, 0], [10, 2, 9, 32, 41, 10, 2, 0]]\n",
      "[encoding]: encoded device_list:  [[1, 1, 0], [2, 1, 0], [3, 1, 0], [4, 1, 0], [5, 0, 0], [6, 0, 0]]\n"
     ]
    }
   ],
   "source": [
    "import gymnasium as gym\n",
    "\n",
    "env = WarehouseEnv()"
   ]
  },
  {
   "cell_type": "code",
   "execution_count": 17,
   "metadata": {},
   "outputs": [
    {
     "name": "stdout",
     "output_type": "stream",
     "text": [
      "[encoding]: encoded task_list:  [[1, 0, 1, 1, 30, 30, 1, 0], [2, 1, 2, 31, 11, 20, 1, 0], [3, 0, 3, 3, 32, 10, 2, 0], [4, 0, 4, 4, 30, 5, 1, 0], [5, 3, 4, 5, 4, 8, 1, 0], [6, 0, 5, 6, 30, 10, 1, 0], [7, 3, 6, 7, 11, 11, 1, 0], [8, 0, 7, 8, 32, 14, 2, 0], [9, 2, 8, 30, 40, 9, 1, 0], [10, 2, 9, 32, 41, 10, 2, 0]]\n",
      "[encoding]: encoded device_list:  [[1, 1, 0], [2, 1, 0], [3, 1, 0], [4, 1, 0], [5, 0, 0], [6, 0, 0]]\n",
      "----\n",
      "[[ 1  0  1  1 30 30  1  0]\n",
      " [ 2  1  2 31 11 20  1  0]\n",
      " [ 3  0  3  3 32 10  2  0]\n",
      " [ 4  0  4  4 30  5  1  0]\n",
      " [ 5  3  4  5  4  8  1  0]\n",
      " [ 6  0  5  6 30 10  1  0]\n",
      " [ 7  3  6  7 11 11  1  0]\n",
      " [ 8  0  7  8 32 14  2  0]\n",
      " [ 9  2  8 30 40  9  1  0]\n",
      " [10  2  9 32 41 10  2  0]]\n"
     ]
    }
   ],
   "source": [
    "# print(task_list)\n",
    "# print(env.observation_space['devices'])\n",
    "# print(env.observation_space['tasks'])\n",
    "\n",
    "tasks = env.observation_space['tasks']\n",
    "\n",
    "\n",
    "next_state, reward = env.reset()\n",
    "\n",
    "print(\"----\")\n",
    "print(next_state['tasks'])\n",
    "tasks = next_state['tasks']\n",
    "\n",
    "\n",
    "available_tasks = tasks[tasks[:, 7] == 0]\n",
    "# env.action_space.n"
   ]
  },
  {
   "cell_type": "code",
   "execution_count": 21,
   "metadata": {},
   "outputs": [
    {
     "name": "stdout",
     "output_type": "stream",
     "text": [
      "(6, 3)\n"
     ]
    },
    {
     "data": {
      "text/plain": [
       "10"
      ]
     },
     "execution_count": 21,
     "metadata": {},
     "output_type": "execute_result"
    }
   ],
   "source": [
    "print(env.observation_space['devices'].shape)\n",
    "env.action_space.n"
   ]
  },
  {
   "cell_type": "code",
   "execution_count": 38,
   "metadata": {},
   "outputs": [
    {
     "name": "stdout",
     "output_type": "stream",
     "text": [
      "[encoding]: encoded task_list:  [[1, 0, 1, 1, 30, 30, 1, 0], [2, 1, 2, 31, 11, 20, 1, 0], [3, 0, 3, 3, 32, 10, 2, 0], [4, 0, 4, 4, 30, 5, 1, 0], [5, 3, 4, 5, 4, 8, 1, 0], [6, 0, 5, 6, 30, 10, 1, 0], [7, 3, 6, 7, 11, 11, 1, 0], [8, 0, 7, 8, 32, 14, 2, 0], [9, 2, 8, 30, 40, 9, 1, 0], [10, 2, 9, 32, 41, 10, 2, 0]]\n",
      "[encoding]: encoded device_list:  [[1, 1, 0], [2, 1, 0], [3, 1, 0], [4, 1, 0], [5, 0, 0], [6, 0, 0]]\n",
      "8\n"
     ]
    }
   ],
   "source": [
    "import random\n",
    "(state,info) = env.reset()\n",
    "\n",
    "tasks= state['tasks']\n",
    "\n",
    "TASK_STATUS = 7\n",
    "available_tasks = tasks[tasks[:, TASK_STATUS] == 0]\n",
    "available_task_ids = [sublist[0] for sublist in available_tasks]\n",
    "\n",
    "random_action = random.choice(available_task_ids)\n",
    "print(random_action)"
   ]
  },
  {
   "cell_type": "code",
   "execution_count": null,
   "metadata": {},
   "outputs": [
    {
     "data": {
      "text/plain": [
       "{'tasks': array([[88,  1, 46, 88, 48, 52, 79,  1],\n",
       "        [68,  3, 34, 31,  8, 30, 10,  2],\n",
       "        [69,  1, 96, 65, 56, 42,  8,  2],\n",
       "        [ 7,  1, 74, 65, 40, 19, 97,  2],\n",
       "        [50,  3, 41, 12, 42, 58, 52,  1],\n",
       "        [17,  2, 76, 19,  4, 22, 13,  1],\n",
       "        [79,  2, 96, 23, 70, 16,  1,  1],\n",
       "        [46,  0, 56, 95, 17, 52, 66,  0],\n",
       "        [57,  3, 93, 38, 36, 49, 46,  0],\n",
       "        [36,  0, 34, 87,  6, 38, 34,  0]]),\n",
       " 'devices': array([[96,  1,  1],\n",
       "        [79,  1,  0],\n",
       "        [31,  1,  1],\n",
       "        [67,  1,  1],\n",
       "        [ 5,  1,  0],\n",
       "        [85,  0,  0]])}"
      ]
     },
     "execution_count": 6,
     "metadata": {},
     "output_type": "execute_result"
    }
   ],
   "source": [
    "env.sample()"
   ]
  },
  {
   "cell_type": "code",
   "execution_count": 1,
   "metadata": {},
   "outputs": [],
   "source": [
    "import tensorflow as tf"
   ]
  },
  {
   "cell_type": "code",
   "execution_count": 2,
   "metadata": {},
   "outputs": [
    {
     "data": {
      "text/html": [
       "<div>\n",
       "<style scoped>\n",
       "    .dataframe tbody tr th:only-of-type {\n",
       "        vertical-align: middle;\n",
       "    }\n",
       "\n",
       "    .dataframe tbody tr th {\n",
       "        vertical-align: top;\n",
       "    }\n",
       "\n",
       "    .dataframe thead th {\n",
       "        text-align: right;\n",
       "    }\n",
       "</style>\n",
       "<table border=\"1\" class=\"dataframe\">\n",
       "  <thead>\n",
       "    <tr style=\"text-align: right;\">\n",
       "      <th></th>\n",
       "      <th>agent_id</th>\n",
       "      <th>type</th>\n",
       "      <th>status</th>\n",
       "      <th>reward</th>\n",
       "      <th>current_task</th>\n",
       "      <th>current_device</th>\n",
       "    </tr>\n",
       "  </thead>\n",
       "  <tbody>\n",
       "    <tr>\n",
       "      <th>0</th>\n",
       "      <td>1</td>\n",
       "      <td>human</td>\n",
       "      <td>available</td>\n",
       "      <td>0</td>\n",
       "      <td>-1</td>\n",
       "      <td>-1</td>\n",
       "    </tr>\n",
       "  </tbody>\n",
       "</table>\n",
       "</div>"
      ],
      "text/plain": [
       "   agent_id   type     status  reward  current_task  current_device\n",
       "0         1  human  available       0            -1              -1"
      ]
     },
     "execution_count": 2,
     "metadata": {},
     "output_type": "execute_result"
    }
   ],
   "source": [
    "import pandas as pd\n",
    "agents = pd.read_csv('agents.csv') \n",
    "\n",
    "agents.head()"
   ]
  },
  {
   "cell_type": "code",
   "execution_count": 5,
   "metadata": {},
   "outputs": [
    {
     "name": "stdout",
     "output_type": "stream",
     "text": [
      "agent_id              1\n",
      "type              human\n",
      "status                0\n",
      "reward                0\n",
      "current_task         -1\n",
      "current_device       -1\n",
      "Name: 0, dtype: object\n"
     ]
    },
    {
     "data": {
      "text/html": [
       "<div>\n",
       "<style scoped>\n",
       "    .dataframe tbody tr th:only-of-type {\n",
       "        vertical-align: middle;\n",
       "    }\n",
       "\n",
       "    .dataframe tbody tr th {\n",
       "        vertical-align: top;\n",
       "    }\n",
       "\n",
       "    .dataframe thead th {\n",
       "        text-align: right;\n",
       "    }\n",
       "</style>\n",
       "<table border=\"1\" class=\"dataframe\">\n",
       "  <thead>\n",
       "    <tr style=\"text-align: right;\">\n",
       "      <th></th>\n",
       "      <th>agent_id</th>\n",
       "      <th>type</th>\n",
       "      <th>status</th>\n",
       "      <th>reward</th>\n",
       "      <th>current_task</th>\n",
       "      <th>current_device</th>\n",
       "    </tr>\n",
       "  </thead>\n",
       "  <tbody>\n",
       "    <tr>\n",
       "      <th>0</th>\n",
       "      <td>1</td>\n",
       "      <td>human</td>\n",
       "      <td>available</td>\n",
       "      <td>10</td>\n",
       "      <td>-1</td>\n",
       "      <td>-1</td>\n",
       "    </tr>\n",
       "  </tbody>\n",
       "</table>\n",
       "</div>"
      ],
      "text/plain": [
       "   agent_id   type     status  reward  current_task  current_device\n",
       "0         1  human  available      10            -1              -1"
      ]
     },
     "execution_count": 5,
     "metadata": {},
     "output_type": "execute_result"
    }
   ],
   "source": [
    "for index, agent in agents.iterrows():\n",
    "    agent['status'] = 0\n",
    "    agents.loc[index, 'reward'] = 10\n",
    "    print(agent)\n",
    "\n",
    "agents.head()"
   ]
  }
 ],
 "metadata": {
  "kernelspec": {
   "display_name": "Python 3",
   "language": "python",
   "name": "python3"
  },
  "language_info": {
   "codemirror_mode": {
    "name": "ipython",
    "version": 3
   },
   "file_extension": ".py",
   "mimetype": "text/x-python",
   "name": "python",
   "nbconvert_exporter": "python",
   "pygments_lexer": "ipython3",
   "version": "3.12.0"
  }
 },
 "nbformat": 4,
 "nbformat_minor": 2
}
